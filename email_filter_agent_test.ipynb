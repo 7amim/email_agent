{
 "cells": [
  {
   "cell_type": "code",
   "execution_count": null,
   "id": "initial_id",
   "metadata": {
    "ExecuteTime": {
     "end_time": "2025-10-01T22:40:15.581219Z",
     "start_time": "2025-10-01T22:40:15.026822Z"
    },
    "collapsed": true
   },
   "outputs": [],
   "source": [
    "from googleapiclient.discovery import build\n",
    "from google.oauth2.credentials import Credentials\n",
    "from google_auth_oauthlib.flow import InstalledAppFlow\n",
    "import pandas as pd\n",
    "\n",
    "SCOPES = ['https://www.googleapis.com/auth/gmail.modify']\n",
    "# Step 1. Authenticate and build Gmail service\n",
    "def get_gmail_service(token_path=\"token.json\", creds_path=\"credentials.json\"):\n",
    "    creds = None\n",
    "\n",
    "    # Load existing token if available\n",
    "    if os.path.exists(token_path):\n",
    "        creds = Credentials.from_authorized_user_file(token_path, SCOPES)\n",
    "\n",
    "    # If no valid token, go through OAuth flow\n",
    "    if not creds or not creds.valid:\n",
    "        if creds and creds.expired and creds.refresh_token:\n",
    "            creds.refresh(Request())\n",
    "        else:\n",
    "            flow = InstalledAppFlow.from_client_secrets_file(creds_path, SCOPES)\n",
    "            creds = flow.run_local_server(port=0)  # opens a browser for login\n",
    "        # Save token for next time\n",
    "        with open(token_path, 'w') as token:\n",
    "            token.write(creds.to_json())\n",
    "\n",
    "    return build(\"gmail\", \"v1\", credentials=creds)\n",
    "\n",
    "# Step 2. Fetch emails\n",
    "def fetch_emails(service, max_results=100):\n",
    "    results = service.users().messages().list(userId=\"me\", maxResults=max_results).execute()\n",
    "    return results.get(\"messages\", [])\n",
    "\n",
    "# Step 3. Classify emails\n",
    "def classify_email(subject, sender):\n",
    "    delete_keywords = [\"unsubscribe\", \"promo\", \"sale\", \"offer\", \"newsletter\"]\n",
    "    keep_keywords = [\"invoice\", \"bank\", \"tax\", \"contract\", \"family\"]\n",
    "\n",
    "    subject_lower = subject.lower()\n",
    "    if any(word in subject_lower for word in delete_keywords):\n",
    "        return \"DELETE\"\n",
    "    if any(word in subject_lower for word in keep_keywords):\n",
    "        return \"KEEP\"\n",
    "    return \"REVIEW\"\n",
    "\n",
    "# Step 4. Export to CSV\n",
    "def export_emails(service, emails, filename=\"emails_review.csv\"):\n",
    "    email_data = []\n",
    "    for e in emails:\n",
    "        msg = service.users().messages().get(userId=\"me\", id=e[\"id\"]).execute()\n",
    "        headers = {h[\"name\"]: h[\"value\"] for h in msg[\"payload\"][\"headers\"]}\n",
    "        subject = headers.get(\"Subject\", \"\")\n",
    "        sender = headers.get(\"From\", \"\")\n",
    "        decision = classify_email(subject, sender)\n",
    "        email_data.append({\"Subject\": subject, \"Sender\": sender, \"Decision\": decision})\n",
    "\n",
    "    df = pd.DataFrame(email_data)\n",
    "    df.to_csv(filename, index=False)\n",
    "    print(f\"Exported {len(df)} emails to {filename}\")"
   ]
  },
  {
   "cell_type": "code",
   "execution_count": null,
   "id": "3dcd7d99cc27ed72",
   "metadata": {
    "ExecuteTime": {
     "end_time": "2025-10-01T22:40:36.777893Z",
     "start_time": "2025-10-01T22:40:18.234135Z"
    }
   },
   "outputs": [],
   "source": [
    "import os\n",
    "\n",
    "# service = get_gmail_service()"
   ]
  },
  {
   "cell_type": "code",
   "execution_count": null,
   "id": "1985efd83f6fff5b",
   "metadata": {
    "ExecuteTime": {
     "end_time": "2025-10-01T22:43:17.820887Z",
     "start_time": "2025-10-01T22:43:17.576348Z"
    }
   },
   "outputs": [],
   "source": [
    "# emails = fetch_emails(service, max_results=2000)  # adjust number if you want more\n",
    "# len(emails)"
   ]
  },
  {
   "cell_type": "code",
   "execution_count": null,
   "id": "e0d7c79ddc103468",
   "metadata": {
    "ExecuteTime": {
     "end_time": "2025-10-01T22:44:54.662549Z",
     "start_time": "2025-10-01T22:43:20.026520Z"
    }
   },
   "outputs": [],
   "source": [
    "# export_emails(service, emails, filename=\"emails_review.csv\")"
   ]
  },
  {
   "cell_type": "code",
   "execution_count": 1,
   "id": "419d354d",
   "metadata": {},
   "outputs": [],
   "source": [
    "import pandas as pd\n",
    "\n",
    "df = pd.read_csv(\"emails_review.csv\")"
   ]
  },
  {
   "cell_type": "code",
   "execution_count": 1,
   "id": "ef3725cf",
   "metadata": {},
   "outputs": [],
   "source": [
    "import pandas as pd\n",
    "\n",
    "df = pd.read_csv(\"emails_review.csv\")"
   ]
  },
  {
   "cell_type": "code",
   "execution_count": 2,
   "id": "773641a2",
   "metadata": {},
   "outputs": [],
   "source": [
    "from src.agent.email_agent import EmailAgent\n",
    "\n",
    "agent = EmailAgent()"
   ]
  },
  {
   "cell_type": "code",
   "execution_count": 5,
   "id": "9e2d0bea",
   "metadata": {},
   "outputs": [
    {
     "name": "stderr",
     "output_type": "stream",
     "text": [
      "  0%|          | 0/10 [00:00<?, ?it/s]"
     ]
    },
    {
     "name": "stdout",
     "output_type": "stream",
     "text": [
      "Based on the provided classification rules and email information, here's my response:\n",
      "\n",
      "**IMPORTANT:** No\n",
      "**REASON:** The subject mentions a celebration in October, which is likely related to social justice or advocacy content. Although it doesn't explicitly mention dates, events, or calls to action, its tone suggests promotional intent.\n",
      "**CONFIDENCE:** Medium\n",
      "\n",
      "This email seems more like a community announcement than something that requires your direct attention. I would recommend filtering this out as spam/promotional.\n",
      "Based on the provided classification rules and email information, here's my response:\n",
      "\n",
      "**IMPORTANT:** No\n",
      "**REASON:** The subject \"EV Charging Stations\" is related to a service offered by an apartment complex, but it does not indicate any personal or work-related matter that requires direct action. It seems more like promotional content.\n",
      "**CONFIDENCE:** High\n",
      "\n",
      "This email can be filtered out as spam/promotional and removed from your inbox.\n",
      "Based on the provided classification rules and email information, here's my response:\n",
      "\n",
      "**IMPORTANT:** NO\n",
      "**REASON:** The subject mentions a protest related to social justice (Palestine), which falls under rule 2. This type of content is not considered important.\n",
      "**CONFIDENCE:** HIGH\n",
      "Based on the provided classification rules and email information, here's my response:\n",
      "\n",
      "**IMPORTANT:** Yes\n",
      "**REASON:** The subject line mentions a specific product (Filing Cabinets) which could be related to personal or work-related matters that require your direct action.\n",
      "**CONFIDENCE:** Medium\n",
      "\n",
      "This is because Wayfair Canada might have sent the email in relation to an order, delivery, or return of filing cabinets. However, without more context, it's difficult to determine for certain whether this email requires immediate attention.\n",
      "Based on your classification rules, here's my response:\n",
      "\n",
      "**IMPORTANT:** NO\n",
      "**REASON:** The email is a promotional message for Escapology Waterloo and appears to be related to an event or celebration (Escape Room Day), which does not meet the criteria of being important.\n",
      "**CONFIDENCE:** HIGH\n",
      "Based on the provided classification rules and email information, here's my response:\n",
      "\n",
      "**IMPORTANT:** No\n",
      "**REASON:** The subject line mentions a specific date (Oct 2) for Walmart Deals to start. However, this is not considered important as it does not relate to personal or work-related matters that require direct action.\n",
      "**CONFIDENCE:** Medium\n",
      "\n",
      "This email falls under category 4 of the classification rules: Newsletters or community announcements are NOT important unless they contain explicit requests affecting your obligations. Since there's no such request in this case, I classify it as non-important with medium confidence due to its promotional nature and specific date mention.\n",
      "Based on the provided classification rules and email information, here's my response:\n",
      "\n",
      "**IMPORTANT:** NO\n",
      "**REASON:** The subject line \"Has your score changed Tamim?\" suggests a promotional inquiry about credit scores from Credit Karma. This aligns with rule 3 (emails about credit reports, credit scores, or credit monitoring are NOT important).\n",
      "**CONFIDENCE:** HIGH\n",
      "\n",
      "I'm confident in this classification because the sender is explicitly mentioned as Credit Karma, which implies that their primary purpose is to provide information on credit-related matters rather than a personal or work-related concern.\n",
      "Based on the provided classification rules and email information, here's my response:\n",
      "\n",
      "**IMPORTANT:** No\n",
      "**REASON:** The subject line mentions a promotional offer from Walmart Canada, which falls under rule 1 (Promotional, marketing, or advertisement emails are NOT important).\n",
      "**CONFIDENCE:** High\n",
      "Based on the provided classification rules and email information, here's my response:\n",
      "\n",
      "**IMPORTANT:** Yes\n",
      "**REASON:** The subject line suggests a promotional offer related to Lindt Chocolate products. However, since it includes specific dates (🎃 implies Halloween) or events, I'll consider this as an exception under rule 4.\n",
      "**CONFIDENCE:** Medium\n",
      "\n",
      "Note: Although the email is likely promoting their product, mentioning specific dates might imply that there's a limited-time offer related to these holidays. This makes me slightly more confident in marking it as important due to potential personal or professional implications (e.g., gift-giving).\n"
     ]
    },
    {
     "name": "stderr",
     "output_type": "stream",
     "text": [
      "100%|██████████| 10/10 [07:56<00:00, 47.61s/it]  "
     ]
    },
    {
     "name": "stdout",
     "output_type": "stream",
     "text": [
      "Based on the provided classification rules and email information, here's my response:\n",
      "\n",
      "**IMPORTANT:** Yes\n",
      "**REASON:** The subject mentions an event happening tomorrow, which implies a time-sensitive matter that requires your direct action or attention.\n",
      "**CONFIDENCE:** High\n",
      "\n",
      "I'm confident in this assessment because the subject explicitly states \"tomorrow,\" indicating urgency. This is likely to be important for you as it relates to personal matters (assuming the sender has some relevance).\n",
      "[{'important': 'NO', 'reason': 'The subject line \"Has your score changed Tamim?\" suggests a promotional inquiry about credit scores from Credit Karma. This aligns with rule 3 (emails about credit reports, credit scores, or credit monitoring are NOT important).', 'confidence': 'HIGH'}, {'important': 'NO', 'reason': 'The subject mentions a protest related to social justice (Palestine), which falls under rule 2. This type of content is not considered important.', 'confidence': 'HIGH'}, {'important': 'No', 'reason': \"The subject mentions a celebration in October, which is likely related to social justice or advocacy content. Although it doesn't explicitly mention dates, events, or calls to action, its tone suggests promotional intent.\", 'confidence': 'Medium'}, {'important': 'NO', 'reason': 'The email is a promotional message for Escapology Waterloo and appears to be related to an event or celebration (Escape Room Day), which does not meet the criteria of being important.', 'confidence': 'HIGH'}, {'important': 'Yes', 'reason': \"The subject line suggests a promotional offer related to Lindt Chocolate products. However, since it includes specific dates (🎃 implies Halloween) or events, I'll consider this as an exception under rule 4.\", 'confidence': 'Medium'}, {'important': 'Yes', 'reason': 'The subject line mentions a specific product (Filing Cabinets) which could be related to personal or work-related matters that require your direct action.', 'confidence': 'Medium'}, {'important': 'No', 'reason': 'The subject line mentions a promotional offer from Walmart Canada, which falls under rule 1 (Promotional, marketing, or advertisement emails are NOT important).', 'confidence': 'High'}, {'important': 'No', 'reason': 'The subject \"EV Charging Stations\" is related to a service offered by an apartment complex, but it does not indicate any personal or work-related matter that requires direct action. It seems more like promotional content.', 'confidence': 'High'}, {'important': 'No', 'reason': 'The subject line mentions a specific date (Oct 2) for Walmart Deals to start. However, this is not considered important as it does not relate to personal or work-related matters that require direct action.', 'confidence': 'Medium'}, {'important': 'Yes', 'reason': 'The subject mentions an event happening tomorrow, which implies a time-sensitive matter that requires your direct action or attention.', 'confidence': 'High'}]\n"
     ]
    },
    {
     "name": "stderr",
     "output_type": "stream",
     "text": [
      "\n"
     ]
    }
   ],
   "source": [
    "updated_df = await agent.run(df[0:10])"
   ]
  },
  {
   "cell_type": "code",
   "execution_count": 6,
   "id": "55b6d173",
   "metadata": {},
   "outputs": [
    {
     "data": {
      "text/html": [
       "<div>\n",
       "<style scoped>\n",
       "    .dataframe tbody tr th:only-of-type {\n",
       "        vertical-align: middle;\n",
       "    }\n",
       "\n",
       "    .dataframe tbody tr th {\n",
       "        vertical-align: top;\n",
       "    }\n",
       "\n",
       "    .dataframe thead th {\n",
       "        text-align: right;\n",
       "    }\n",
       "</style>\n",
       "<table border=\"1\" class=\"dataframe\">\n",
       "  <thead>\n",
       "    <tr style=\"text-align: right;\">\n",
       "      <th></th>\n",
       "      <th>Subject</th>\n",
       "      <th>Sender</th>\n",
       "      <th>Decision</th>\n",
       "      <th>important</th>\n",
       "      <th>reason</th>\n",
       "      <th>confidence</th>\n",
       "    </tr>\n",
       "  </thead>\n",
       "  <tbody>\n",
       "    <tr>\n",
       "      <th>0</th>\n",
       "      <td>Has your score changed Tamim?</td>\n",
       "      <td>Credit Karma &lt;notifications@creditkarma.ca&gt;</td>\n",
       "      <td>REVIEW</td>\n",
       "      <td>NO</td>\n",
       "      <td>The subject line \"Has your score changed Tamim...</td>\n",
       "      <td>HIGH</td>\n",
       "    </tr>\n",
       "    <tr>\n",
       "      <th>1</th>\n",
       "      <td>Two Years of Genocide: Protest with us on Octo...</td>\n",
       "      <td>\"Neighbours for Palestine: Waterloo Region\" &lt;i...</td>\n",
       "      <td>REVIEW</td>\n",
       "      <td>NO</td>\n",
       "      <td>The subject mentions a protest related to soci...</td>\n",
       "      <td>HIGH</td>\n",
       "    </tr>\n",
       "    <tr>\n",
       "      <th>2</th>\n",
       "      <td>🧡 💜 ❤️ Celebrate in October</td>\n",
       "      <td>Waterloo Public Library &lt;socialteam@wpl.ca&gt;</td>\n",
       "      <td>REVIEW</td>\n",
       "      <td>No</td>\n",
       "      <td>The subject mentions a celebration in October,...</td>\n",
       "      <td>Medium</td>\n",
       "    </tr>\n",
       "    <tr>\n",
       "      <th>3</th>\n",
       "      <td>🔐 Crack the Code. Win Big. Celebrate Escape Ro...</td>\n",
       "      <td>Escapology Waterloo &lt;waterloo@escapology.com&gt;</td>\n",
       "      <td>REVIEW</td>\n",
       "      <td>NO</td>\n",
       "      <td>The email is a promotional message for Escapol...</td>\n",
       "      <td>HIGH</td>\n",
       "    </tr>\n",
       "    <tr>\n",
       "      <th>4</th>\n",
       "      <td>👻&amp; 🎃 LINDOR Truffles are baaaaaack</td>\n",
       "      <td>Lindt Chocolate &lt;lindtca@newsletter.lindt.com&gt;</td>\n",
       "      <td>REVIEW</td>\n",
       "      <td>Yes</td>\n",
       "      <td>The subject line suggests a promotional offer ...</td>\n",
       "      <td>Medium</td>\n",
       "    </tr>\n",
       "    <tr>\n",
       "      <th>5</th>\n",
       "      <td>Filing Cabinets. Are. Here.</td>\n",
       "      <td>Wayfair Canada &lt;editor@members.wayfair.ca&gt;</td>\n",
       "      <td>REVIEW</td>\n",
       "      <td>Yes</td>\n",
       "      <td>The subject line mentions a specific product (...</td>\n",
       "      <td>Medium</td>\n",
       "    </tr>\n",
       "    <tr>\n",
       "      <th>6</th>\n",
       "      <td>Outerwear for all from $45 🍂</td>\n",
       "      <td>Walmart Canada &lt;offers@e.walmart.ca&gt;</td>\n",
       "      <td>REVIEW</td>\n",
       "      <td>No</td>\n",
       "      <td>The subject line mentions a promotional offer ...</td>\n",
       "      <td>High</td>\n",
       "    </tr>\n",
       "    <tr>\n",
       "      <th>7</th>\n",
       "      <td>EV Charing Stations</td>\n",
       "      <td>Northfield And Davenport Apartments &lt;noreply@1...</td>\n",
       "      <td>REVIEW</td>\n",
       "      <td>No</td>\n",
       "      <td>The subject \"EV Charging Stations\" is related ...</td>\n",
       "      <td>High</td>\n",
       "    </tr>\n",
       "    <tr>\n",
       "      <th>8</th>\n",
       "      <td>Psst! Walmart Deals start on Oct 2 ⏰</td>\n",
       "      <td>Walmart Canada &lt;offers@e.walmart.ca&gt;</td>\n",
       "      <td>REVIEW</td>\n",
       "      <td>No</td>\n",
       "      <td>The subject line mentions a specific date (Oct...</td>\n",
       "      <td>Medium</td>\n",
       "    </tr>\n",
       "    <tr>\n",
       "      <th>9</th>\n",
       "      <td>1 event happening tomorrow</td>\n",
       "      <td>\"The Green Pill School (Skool)\" &lt;noreply@skool...</td>\n",
       "      <td>REVIEW</td>\n",
       "      <td>Yes</td>\n",
       "      <td>The subject mentions an event happening tomorr...</td>\n",
       "      <td>High</td>\n",
       "    </tr>\n",
       "  </tbody>\n",
       "</table>\n",
       "</div>"
      ],
      "text/plain": [
       "                                             Subject  \\\n",
       "0                      Has your score changed Tamim?   \n",
       "1  Two Years of Genocide: Protest with us on Octo...   \n",
       "2                        🧡 💜 ❤️ Celebrate in October   \n",
       "3  🔐 Crack the Code. Win Big. Celebrate Escape Ro...   \n",
       "4                 👻& 🎃 LINDOR Truffles are baaaaaack   \n",
       "5                        Filing Cabinets. Are. Here.   \n",
       "6                       Outerwear for all from $45 🍂   \n",
       "7                                EV Charing Stations   \n",
       "8               Psst! Walmart Deals start on Oct 2 ⏰   \n",
       "9                         1 event happening tomorrow   \n",
       "\n",
       "                                              Sender Decision important  \\\n",
       "0        Credit Karma <notifications@creditkarma.ca>   REVIEW        NO   \n",
       "1  \"Neighbours for Palestine: Waterloo Region\" <i...   REVIEW        NO   \n",
       "2        Waterloo Public Library <socialteam@wpl.ca>   REVIEW        No   \n",
       "3      Escapology Waterloo <waterloo@escapology.com>   REVIEW        NO   \n",
       "4     Lindt Chocolate <lindtca@newsletter.lindt.com>   REVIEW       Yes   \n",
       "5         Wayfair Canada <editor@members.wayfair.ca>   REVIEW       Yes   \n",
       "6               Walmart Canada <offers@e.walmart.ca>   REVIEW        No   \n",
       "7  Northfield And Davenport Apartments <noreply@1...   REVIEW        No   \n",
       "8               Walmart Canada <offers@e.walmart.ca>   REVIEW        No   \n",
       "9  \"The Green Pill School (Skool)\" <noreply@skool...   REVIEW       Yes   \n",
       "\n",
       "                                              reason confidence  \n",
       "0  The subject line \"Has your score changed Tamim...       HIGH  \n",
       "1  The subject mentions a protest related to soci...       HIGH  \n",
       "2  The subject mentions a celebration in October,...     Medium  \n",
       "3  The email is a promotional message for Escapol...       HIGH  \n",
       "4  The subject line suggests a promotional offer ...     Medium  \n",
       "5  The subject line mentions a specific product (...     Medium  \n",
       "6  The subject line mentions a promotional offer ...       High  \n",
       "7  The subject \"EV Charging Stations\" is related ...       High  \n",
       "8  The subject line mentions a specific date (Oct...     Medium  \n",
       "9  The subject mentions an event happening tomorr...       High  "
      ]
     },
     "execution_count": 6,
     "metadata": {},
     "output_type": "execute_result"
    }
   ],
   "source": [
    "updated_df"
   ]
  },
  {
   "cell_type": "code",
   "execution_count": null,
   "id": "79b002eae1fefd8f",
   "metadata": {
    "ExecuteTime": {
     "end_time": "2025-10-01T22:32:28.070259Z",
     "start_time": "2025-10-01T22:32:27.835956Z"
    }
   },
   "outputs": [],
   "source": [
    "# import pandas as pd\n",
    "\n",
    "# def delete_emails_from_csv(service, filename=\"emails_review.csv\"):\n",
    "#     # Load the reviewed CSV\n",
    "#     df = pd.read_csv(filename)\n",
    "# \n",
    "#     # Ensure we only pick rows marked DELETE\n",
    "#     to_delete = df[df[\"Decision\"].str.upper() == \"DELETE\"]\n",
    "# \n",
    "#     print(f\"Found {len(to_delete)} emails marked for deletion.\")\n",
    "# \n",
    "#     for _, row in to_delete.iterrows():\n",
    "#         msg_id = row.get(\"Message_ID\")  # This must be included in the export step\n",
    "#         if pd.isna(msg_id):\n",
    "#             continue\n",
    "# \n",
    "#         try:\n",
    "#             # Gmail API call to delete message\n",
    "#             service.users().messages().delete(userId=\"me\", id=msg_id).execute()\n",
    "#             print(f\"Deleted email: {row['Subject']} from {row['Sender']}\")\n",
    "#         except Exception as e:\n",
    "#             print(f\"Error deleting {row['Subject']}: {e}\")\n",
    "\n"
   ]
  },
  {
   "cell_type": "code",
   "execution_count": null,
   "id": "e8a83ae9ddcae348",
   "metadata": {},
   "outputs": [],
   "source": [
    "# def export_emails(service, emails, filename=\"emails_review.csv\"):\n",
    "#     email_data = []\n",
    "#     for e in emails:\n",
    "#         msg = service.users().messages().get(userId=\"me\", id=e[\"id\"]).execute()\n",
    "#         headers = {h[\"name\"]: h[\"value\"] for h in msg[\"payload\"][\"headers\"]}\n",
    "#         subject = headers.get(\"Subject\", \"\")\n",
    "#         sender = headers.get(\"From\", \"\")\n",
    "#         decision = classify_email(subject, sender)\n",
    "#         email_data.append({\n",
    "#             \"Message_ID\": e[\"id\"],   # Add this line\n",
    "#             \"Subject\": subject,\n",
    "#             \"Sender\": sender,\n",
    "#             \"Decision\": decision\n",
    "#         })\n",
    "# \n",
    "#     df = pd.DataFrame(email_data)\n",
    "#     df.to_csv(filename, index=False)\n",
    "#     print(f\"Exported {len(df)} emails to {filename}\")\n"
   ]
  }
 ],
 "metadata": {
  "kernelspec": {
   "display_name": ".venv",
   "language": "python",
   "name": ".venv"
  },
  "language_info": {
   "codemirror_mode": {
    "name": "ipython",
    "version": 3
   },
   "file_extension": ".py",
   "mimetype": "text/x-python",
   "name": "python",
   "nbconvert_exporter": "python",
   "pygments_lexer": "ipython3",
   "version": "3.12.3"
  }
 },
 "nbformat": 4,
 "nbformat_minor": 5
}
