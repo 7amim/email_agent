{
 "cells": [
  {
   "cell_type": "code",
   "execution_count": 3,
   "id": "initial_id",
   "metadata": {
    "ExecuteTime": {
     "end_time": "2025-10-01T22:40:15.581219Z",
     "start_time": "2025-10-01T22:40:15.026822Z"
    },
    "collapsed": true
   },
   "outputs": [],
   "source": [
    "from googleapiclient.discovery import build\n",
    "from google.oauth2.credentials import Credentials\n",
    "from google_auth_oauthlib.flow import InstalledAppFlow\n",
    "import pandas as pd\n",
    "\n",
    "SCOPES = ['https://www.googleapis.com/auth/gmail.modify']\n",
    "# Step 1. Authenticate and build Gmail service\n",
    "def get_gmail_service(token_path=\"token.json\", creds_path=\"credentials.json\"):\n",
    "    creds = None\n",
    "\n",
    "    # Load existing token if available\n",
    "    if os.path.exists(token_path):\n",
    "        creds = Credentials.from_authorized_user_file(token_path, SCOPES)\n",
    "\n",
    "    # If no valid token, go through OAuth flow\n",
    "    if not creds or not creds.valid:\n",
    "        if creds and creds.expired and creds.refresh_token:\n",
    "            creds.refresh(Request())\n",
    "        else:\n",
    "            flow = InstalledAppFlow.from_client_secrets_file(creds_path, SCOPES)\n",
    "            creds = flow.run_local_server(port=0)  # opens a browser for login\n",
    "        # Save token for next time\n",
    "        with open(token_path, 'w') as token:\n",
    "            token.write(creds.to_json())\n",
    "\n",
    "    return build(\"gmail\", \"v1\", credentials=creds)\n",
    "\n",
    "# Step 2. Fetch emails\n",
    "def fetch_emails(service, max_results=100):\n",
    "    results = service.users().messages().list(userId=\"me\", maxResults=max_results).execute()\n",
    "    return results.get(\"messages\", [])\n",
    "\n",
    "# Step 3. Classify emails\n",
    "def classify_email(subject, sender):\n",
    "    delete_keywords = [\"unsubscribe\", \"promo\", \"sale\", \"offer\", \"newsletter\"]\n",
    "    keep_keywords = [\"invoice\", \"bank\", \"tax\", \"contract\", \"family\"]\n",
    "\n",
    "    subject_lower = subject.lower()\n",
    "    if any(word in subject_lower for word in delete_keywords):\n",
    "        return \"DELETE\"\n",
    "    if any(word in subject_lower for word in keep_keywords):\n",
    "        return \"KEEP\"\n",
    "    return \"REVIEW\"\n",
    "\n",
    "# Step 4. Export to CSV\n",
    "def export_emails(service, emails, filename=\"emails_review.csv\"):\n",
    "    email_data = []\n",
    "    for e in emails:\n",
    "        msg = service.users().messages().get(userId=\"me\", id=e[\"id\"]).execute()\n",
    "        headers = {h[\"name\"]: h[\"value\"] for h in msg[\"payload\"][\"headers\"]}\n",
    "        subject = headers.get(\"Subject\", \"\")\n",
    "        sender = headers.get(\"From\", \"\")\n",
    "        decision = classify_email(subject, sender)\n",
    "        email_data.append({\"Subject\": subject, \"Sender\": sender, \"Decision\": decision})\n",
    "\n",
    "    df = pd.DataFrame(email_data)\n",
    "    df.to_csv(filename, index=False)\n",
    "    print(f\"Exported {len(df)} emails to {filename}\")"
   ]
  },
  {
   "cell_type": "code",
   "execution_count": 4,
   "id": "3dcd7d99cc27ed72",
   "metadata": {
    "ExecuteTime": {
     "end_time": "2025-10-01T22:40:36.777893Z",
     "start_time": "2025-10-01T22:40:18.234135Z"
    }
   },
   "outputs": [],
   "source": [
    "import os\n",
    "\n",
    "# service = get_gmail_service()"
   ]
  },
  {
   "cell_type": "code",
   "execution_count": 5,
   "id": "1985efd83f6fff5b",
   "metadata": {
    "ExecuteTime": {
     "end_time": "2025-10-01T22:43:17.820887Z",
     "start_time": "2025-10-01T22:43:17.576348Z"
    }
   },
   "outputs": [],
   "source": [
    "# emails = fetch_emails(service, max_results=2000)  # adjust number if you want more\n",
    "# len(emails)"
   ]
  },
  {
   "cell_type": "code",
   "execution_count": 6,
   "id": "e0d7c79ddc103468",
   "metadata": {
    "ExecuteTime": {
     "end_time": "2025-10-01T22:44:54.662549Z",
     "start_time": "2025-10-01T22:43:20.026520Z"
    }
   },
   "outputs": [],
   "source": [
    "# export_emails(service, emails, filename=\"emails_review.csv\")"
   ]
  },
  {
   "cell_type": "code",
   "execution_count": 7,
   "id": "419d354d",
   "metadata": {},
   "outputs": [],
   "source": [
    "import pandas as pd\n",
    "\n",
    "df = pd.read_csv(\"emails_review.csv\")"
   ]
  },
  {
   "cell_type": "code",
   "execution_count": 8,
   "id": "8e20aaa8824e2e55",
   "metadata": {
    "ExecuteTime": {
     "end_time": "2025-10-02T13:38:13.907071Z",
     "start_time": "2025-10-02T13:34:18.241221Z"
    }
   },
   "outputs": [],
   "source": [
    "from gpt4all import GPT4All\n",
    "\n",
    "model = GPT4All(\"Meta-Llama-3.1-8B-Instruct-128k-Q4_0.gguf\")"
   ]
  },
  {
   "cell_type": "code",
   "execution_count": 9,
   "id": "780f663b",
   "metadata": {},
   "outputs": [
    {
     "name": "stdout",
     "output_type": "stream",
     "text": [
      "DEBUG: Credit Karma <notifications@creditkarma.ca>\n",
      "DEBUG: Has your score changed Tamim?\n"
     ]
    }
   ],
   "source": [
    "\n",
    "import asyncio\n",
    "\n",
    "async def process_dataframe(df: pd.DataFrame):\n",
    "    tasks = [process_row(row) for row in df.itertuples()]\n",
    "    results = await asyncio.gather(*tasks)\n",
    "\n",
    "    return results\n",
    "\n",
    "async def process_row(row: pd.Series):\n",
    "\n",
    "    subject = row.Subject\n",
    "    sender = row.Sender\n",
    "\n",
    "    print(f\"DEBUG: {sender}\")\n",
    "    print(f\"DEBUG: {subject}\")\n",
    "\n",
    "    prompt = (\n",
    "        \"You are an intelligent email-filtering assistant. Your task is to help me declutter \"\n",
    "        \"my Gmail inbox by identifying and filtering out spam, promotional, and non-essential emails.\\n\\n\"\n",
    "        \"### Classification Rules (in order of priority)\\n\"\n",
    "        \"1. Promotional, marketing, or advertisement emails are NOT important.\\n\"\n",
    "        \"2. Social justice, political, or advocacy-related content is NOT important, \"\n",
    "        \"   even if it includes dates, events, or calls to action.\\n\"\n",
    "        \"3. Emails about credit reports, credit scores, or credit monitoring are NOT important.\\n\"\n",
    "        \"4. Newsletters or community announcements (e.g., libraries, local events) are NOT important \"\n",
    "        \"   unless they contain explicit requests that affect your personal or professional obligations.\\n\"\n",
    "        \"5. Only mark an email as IMPORTANT if it clearly relates to personal, work-related, or time-sensitive matters \"\n",
    "        \"   that require your direct action (e.g., meeting confirmations, invoices, urgent requests, deadlines).\\n\\n\"\n",
    "        \"### Email Information\\n\"\n",
    "        f\"Subject: {subject}\\n\"\n",
    "        f\"Sender: {sender}\\n\\n\"\n",
    "        \"### Response Format\\n\"\n",
    "        \"IMPORTANT: <Yes or No>\\n\"\n",
    "        \"REASON: <Brief explanation>\\n\"\n",
    "        \"CONFIDENCE: <High / Medium / Low>\\n\"\n",
    "    )\n",
    "\n",
    "    with model.chat_session():\n",
    "        response = model.generate(prompt)\n",
    "        \n",
    "        return response\n",
    "\n",
    "df_results = await process_dataframe(df[0:1])"
   ]
  },
  {
   "cell_type": "code",
   "execution_count": 10,
   "id": "773641a2",
   "metadata": {},
   "outputs": [
    {
     "data": {
      "text/plain": [
       "['Based on the provided classification rules and email information, here\\'s my response:\\n\\n**IMPORTANT:** NO\\n**REASON:** The subject line \"Has your score changed Tamim?\" suggests a query about credit report changes, which falls under rule 3 (emails about credit reports, scores, or monitoring are NOT important).\\n**CONFIDENCE:** HIGH\\n\\nThis classification is based on the clear indication that the email pertains to Credit Karma\\'s services and not an urgent matter requiring your direct action.']"
      ]
     },
     "execution_count": 10,
     "metadata": {},
     "output_type": "execute_result"
    }
   ],
   "source": [
    "df_results"
   ]
  },
  {
   "cell_type": "code",
   "execution_count": null,
   "id": "79b002eae1fefd8f",
   "metadata": {
    "ExecuteTime": {
     "end_time": "2025-10-01T22:32:28.070259Z",
     "start_time": "2025-10-01T22:32:27.835956Z"
    }
   },
   "outputs": [],
   "source": [
    "# import pandas as pd\n",
    "\n",
    "# def delete_emails_from_csv(service, filename=\"emails_review.csv\"):\n",
    "#     # Load the reviewed CSV\n",
    "#     df = pd.read_csv(filename)\n",
    "# \n",
    "#     # Ensure we only pick rows marked DELETE\n",
    "#     to_delete = df[df[\"Decision\"].str.upper() == \"DELETE\"]\n",
    "# \n",
    "#     print(f\"Found {len(to_delete)} emails marked for deletion.\")\n",
    "# \n",
    "#     for _, row in to_delete.iterrows():\n",
    "#         msg_id = row.get(\"Message_ID\")  # This must be included in the export step\n",
    "#         if pd.isna(msg_id):\n",
    "#             continue\n",
    "# \n",
    "#         try:\n",
    "#             # Gmail API call to delete message\n",
    "#             service.users().messages().delete(userId=\"me\", id=msg_id).execute()\n",
    "#             print(f\"Deleted email: {row['Subject']} from {row['Sender']}\")\n",
    "#         except Exception as e:\n",
    "#             print(f\"Error deleting {row['Subject']}: {e}\")\n",
    "\n"
   ]
  },
  {
   "cell_type": "code",
   "execution_count": null,
   "id": "e8a83ae9ddcae348",
   "metadata": {},
   "outputs": [],
   "source": [
    "# def export_emails(service, emails, filename=\"emails_review.csv\"):\n",
    "#     email_data = []\n",
    "#     for e in emails:\n",
    "#         msg = service.users().messages().get(userId=\"me\", id=e[\"id\"]).execute()\n",
    "#         headers = {h[\"name\"]: h[\"value\"] for h in msg[\"payload\"][\"headers\"]}\n",
    "#         subject = headers.get(\"Subject\", \"\")\n",
    "#         sender = headers.get(\"From\", \"\")\n",
    "#         decision = classify_email(subject, sender)\n",
    "#         email_data.append({\n",
    "#             \"Message_ID\": e[\"id\"],   # Add this line\n",
    "#             \"Subject\": subject,\n",
    "#             \"Sender\": sender,\n",
    "#             \"Decision\": decision\n",
    "#         })\n",
    "# \n",
    "#     df = pd.DataFrame(email_data)\n",
    "#     df.to_csv(filename, index=False)\n",
    "#     print(f\"Exported {len(df)} emails to {filename}\")\n"
   ]
  }
 ],
 "metadata": {
  "kernelspec": {
   "display_name": ".venv",
   "language": "python",
   "name": ".venv"
  },
  "language_info": {
   "codemirror_mode": {
    "name": "ipython",
    "version": 3
   },
   "file_extension": ".py",
   "mimetype": "text/x-python",
   "name": "python",
   "nbconvert_exporter": "python",
   "pygments_lexer": "ipython3",
   "version": "3.12.3"
  }
 },
 "nbformat": 4,
 "nbformat_minor": 5
}
